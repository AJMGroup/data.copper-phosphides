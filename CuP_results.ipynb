{
 "cells": [
  {
   "cell_type": "markdown",
   "metadata": {
    "heading_collapsed": true
   },
   "source": [
    "### Abstract"
   ]
  },
  {
   "cell_type": "markdown",
   "metadata": {},
   "source": [
    "## Novel Phases of Copper Phosphides from Computational Structure Searches"
   ]
  },
  {
   "cell_type": "markdown",
   "metadata": {},
   "source": [
    "Using first-principles structure searching we identify a novel $Fm\\bar{3}m$ phase of Cu$_2$P and two low-lying metastable structures, an $I\\bar{4}3d$-Cu$_3$P phase, and a $Cm$-Cu$_3$P$_{11}$ phase. Pair distribution functions of the novel $Cm$-Cu$_3$P$_{11}$ phase show its structural similarity to the experimentally known $Cm$-Cu$_2$P$_7$ phase. The compositional phase diagram was extended to finite temperatures by including vibrational effects, predicting that $Fm\\bar{3}m$-Cu$_2$P is stable up to at least 600\\,K, and also predicts the Cu$_{3-x}$P ($x<<1$) defect phase $Cmc2_1$-Cu$_8$P$_3$ to remain metastable (within 10 meV/atom of the convex hull) across the temperature range studied. Both CuP$_2$ and Cu$_3$P have been studied in the context of Li-ion battery conversion anodes, both exhibiting theoretical capacities higher than contemporary graphite anodes. The predicted Cu$_2$P composition has a theoretical gravimetric capacity of 508\\,mAh/g as a Li-ion battery electrode, greater than both Cu$_3$P and graphite, and is predicted to be both diamagnetic and metallic, which should promote efficient electron transfer in the anode. Its favorable properties as a metallic high capacity material suggest its use as a future conversion anode for Li-ion batteries.  "
   ]
  },
  {
   "cell_type": "markdown",
   "metadata": {},
   "source": [
    "### Imports"
   ]
  },
  {
   "cell_type": "code",
   "execution_count": 1,
   "metadata": {},
   "outputs": [],
   "source": [
    "from matador.config.config import set_settings\n",
    "set_settings(\n",
    "    {\n",
    "        'plotting': {\n",
    "            'element_colours': './config/vesta_elements.ini',\n",
    "            'default_style': ['matador', './config/CuP.mplstyle']\n",
    "        }\n",
    "    }\n",
    ")"
   ]
  },
  {
   "cell_type": "code",
   "execution_count": 2,
   "metadata": {},
   "outputs": [],
   "source": [
    "import warnings\n",
    "warnings.filterwarnings('ignore')\n",
    "\n",
    "import tqdm\n",
    "import glob\n",
    "import pickle\n",
    "\n",
    "import numpy as np    \n",
    "import matplotlib.pyplot as plt\n",
    "%matplotlib inline\n",
    "from IPython.display import set_matplotlib_formats\n",
    "# ME: revert to png here for now to save space\n",
    "set_matplotlib_formats('png')\n",
    "\n",
    "from matador.query import DBQuery\n",
    "from matador.hull import QueryConvexHull\n",
    "from matador.hull import EnsembleHull\n",
    "from matador.scrapers import castep2dict, res2dict\n",
    "from matador.utils.cursor_utils import filter_unique_structures\n",
    "from matador.crystal import Crystal\n",
    "from matador.utils.cell_utils import standardize_doc_cell, get_spacegroup_spg\n",
    "from matador.utils.chem_utils import get_formula_from_stoich\n"
   ]
  },
  {
   "cell_type": "markdown",
   "metadata": {},
   "source": [
    "## Results"
   ]
  },
  {
   "cell_type": "markdown",
   "metadata": {},
   "source": [
    "### Convex hull from structure prediction"
   ]
  },
  {
   "cell_type": "code",
   "execution_count": 3,
   "metadata": {
    "scrolled": false
   },
   "outputs": [],
   "source": [
    "# load AIRSS structures obtained from searching\n",
    "cursor, failures = res2dict('/u/fs1/afh41/proj/HarperCuPData/CuPHull/*.res', db=True)"
   ]
  },
  {
   "cell_type": "code",
   "execution_count": 4,
   "metadata": {},
   "outputs": [],
   "source": [
    "# do some pruning: reevaluate symmetries and reduce cells\n",
    "cursor = [Crystal(standardize_doc_cell(doc)) for doc in cursor]"
   ]
  },
  {
   "cell_type": "code",
   "execution_count": 5,
   "metadata": {},
   "outputs": [
    {
     "name": "stdout",
     "output_type": "stream",
     "text": [
      "Calculating fingerprints...\n",
      "Assessing similarities...\n",
      "Skipping 12 structures out of 241 as no comparisons are required\n",
      "\u001b[94mRunning 229 jobs on at most 6 processes, set by core count.\u001b[0m\n",
      "Applying hierarchy of structures with order: ['ICSD', 'DOI', 'OQMD', 'MP', 'PF', 'SWAPS', 'AIRSS', 'GA']\n",
      "Done!\n",
      "Filtered 241 down to 44\n"
     ]
    }
   ],
   "source": [
    "# filter them for uniqueness to retain 44 structures\n",
    "filtering = True\n",
    "if filtering:\n",
    "    polished_cursor = filter_unique_structures(cursor, sim_tol=0.1, enforce_same_stoich=True, quiet=True)\n",
    "else:\n",
    "    polished_cursor = cursor"
   ]
  },
  {
   "cell_type": "code",
   "execution_count": 6,
   "metadata": {
    "scrolled": false
   },
   "outputs": [
    {
     "name": "stdout",
     "output_type": "stream",
     "text": [
      "\u001b[94m6 structures found within 0.0 eV of the hull, including chemical potentials.\u001b[0m\n",
      "───────────────────────────────────────────────────────────────────────────────────────────────────────────────────────────\n",
      "                 Source                  !?!  Pressure  Volume/fu  Hull dist.   Space group     Formula      # fu   Prov.  \n",
      "                                               (GPa)     (Ang^3)   (meV/atom)  \n",
      "───────────────────────────────────────────────────────────────────────────────────────────────────────────────────────────\n",
      "\u001b[92m\u001b[1m* Cu-OQMD_592441-CollCode43493_0[..]             -0.00       11.9          0.0    Fm-3m          Cu          1      ICSD  \u001b[0m\n",
      "\u001b[92m\u001b[1m* Cu2P-swap-PRh2-OQMD_7002-CollC[..]              0.01       41.6          0.0    Fm-3m         Cu2P         1     SWAPS  \u001b[0m\n",
      "\u001b[92m\u001b[1m* CuP2-OQMD_6538-CollCode35282_3[..]              0.05       48.9          0.0   P2_1/c         CuP2         4      ICSD  \u001b[0m\n",
      "\u001b[92m\u001b[1m* Cu2P7-OQMD_6537-CollCode35281_0                -0.08      163.3          0.0    C2/m          Cu2P7        4      ICSD  \u001b[0m\n",
      "\u001b[92m\u001b[1m* CuP10-CollCode418805                           -0.04      248.3          0.0     P-1          CuP10        4      ICSD  \u001b[0m\n",
      "\u001b[92m\u001b[1m* P-CollCode150873                               -0.00       21.2          0.0    Cmce            P          4      ICSD  \u001b[0m\n",
      "\n"
     ]
    }
   ],
   "source": [
    "polished_hull = QueryConvexHull(\n",
    "    cursor=polished_cursor, \n",
    "    species=['Cu', 'P'], \n",
    "    no_plot=True\n",
    ")"
   ]
  },
  {
   "cell_type": "code",
   "execution_count": 7,
   "metadata": {
    "scrolled": false
   },
   "outputs": [
    {
     "data": {
      "image/png": "[encoded data removed]",
      "text/plain": [
       "<Figure size 576x360 with 1 Axes>"
      ]
     },
     "metadata": {
      "needs_background": "light"
     },
     "output_type": "display_data"
    }
   ],
   "source": [
    "# Plot the convex hull of the 44 structures from filtering\n",
    "from matador.plotting import plot_2d_hull\n",
    "import matplotlib.pyplot as plt\n",
    "fig, ax = plt.subplots(figsize=(8, 5))\n",
    "ax = plot_2d_hull(\n",
    "    polished_hull,\n",
    "    ax=ax,\n",
    "    label_cutoff=0.02, \n",
    "    colour_by_source=True,\n",
    "    plot_hull_points=False,\n",
    "    show=False,\n",
    "    alpha=0.8, \n",
    "    label_offset=(1.15, 0.02),\n",
    "    eform_limits=(-0.2, 0.03),\n",
    "    sources=['AIRSS', 'GA', 'SWAPS', 'ICSD', 'OQMD'],\n",
    "    source_labels=['AIRSS', 'GA', 'swaps', 'ICSD', 'OQMD']\n",
    ")\n",
    "ax.set_yticks([-0.2, -0.15, -0.1, -0.05, 0.0])\n",
    "ax.tick_params(direction='in')\n",
    "ax.legend(loc='lower right')\n",
    "plt.savefig('CuP-convex-hull.png',bbox_inches='tight',transparent=True)"
   ]
  },
  {
   "cell_type": "code",
   "execution_count": 8,
   "metadata": {
    "scrolled": false
   },
   "outputs": [
    {
     "name": "stdout",
     "output_type": "stream",
     "text": [
      "───────────────────────────────────────────────────────────────────────────────────────────────────────────────────────────\n",
      "                 Source                  !?!  Pressure  Volume/fu  Hull dist.   Space group     Formula      # fu   Prov.  \n",
      "                                               (GPa)     (Ang^3)   (meV/atom)  \n",
      "───────────────────────────────────────────────────────────────────────────────────────────────────────────────────────────\n",
      "\u001b[92m\u001b[1m* Cu-OQMD_592441-CollCode43493_0[..]             -0.00       11.9          0.0    Fm-3m          Cu          1      ICSD  \u001b[0m\n",
      "  CuP_ratios-anbf0moptimised                     -0.02       44.7         31.3   I4/mmm         Cu6P         2     AIRSS  \n",
      "  CuP_ratios-kzw2kyoptimised                     -0.05       65.6         28.2   P4/nmm         Cu4P         2     AIRSS  \n",
      "  CuP_ratios-ty38s2optimised                      0.02       65.5         43.9    Cmmm          Cu4P         1     AIRSS  \n",
      "  Cu3P-swap-AsCu3-OQMD_11878-Col[..]             -0.04       52.5         10.8    I-43d         Cu3P         8     SWAPS  \n",
      "  CuP-GA-m0ol1y-7x3                              -0.02       53.6         30.3   P2_1/m         Cu3P         2       GA   \n",
      "  Cu3P-OQMD_2966-CollCode15056                   -0.05       50.7         36.7   P6_3cm         Cu3P         6      ICSD  \n",
      "  Cu3P-swap-Cr3P-OQMD_4349-CollC[..]             -0.02       51.2         38.6     I-4          Cu3P         4     SWAPS  \n",
      "  CuP-GA-btv80v-6x10                              0.00      297.8         40.3     P1          Cu17P6        1       GA   \n",
      "  config_25                                      -0.02      146.2         25.8   Cmc2_1         Cu8P3        2     AIRSS  \n",
      "  Cu3P_vac-svcgdl-a_final                         0.00      144.1         35.5   P6_3cm         Cu8P3        2     AIRSS  \n",
      "  config_62                                       0.07      146.9         39.4     P1           Cu8P3        2     AIRSS  \n",
      "  Cu3P-b7q5x7-a_final                             0.01      138.0         42.4     P1           Cu7P3        2     AIRSS  \n",
      "  Cu3P-7q1m68-a_final                             0.05      139.1         44.3     P1           Cu7P3        2     AIRSS  \n",
      "\u001b[92m\u001b[1m* Cu2P-swap-PRh2-OQMD_7002-CollC[..]              0.01       41.6          0.0    Fm-3m         Cu2P         1     SWAPS  \u001b[0m\n",
      "  CuP_ratios-jg4yo5optimised                      0.07      112.5         49.1   P4/nmm         Cu4P3        2     AIRSS  \n",
      "\u001b[92m\u001b[1m* CuP2-OQMD_6538-CollCode35282_3[..]              0.05       48.9          0.0   P2_1/c         CuP2         4      ICSD  \u001b[0m\n",
      "  CuP_ratios-qaiupvoptimised                      0.02       70.9         26.1    Pmmn          CuP3         2     AIRSS  \n",
      "  CuP-GA-nbd9px-7x39                              0.02      653.8         29.2     Cm          Cu8P27        1       GA   \n",
      "  CuP-GA-nbd9px-5x93                              0.01      657.4         42.6     Cm          Cu8P27        1       GA   \n",
      "\u001b[92m\u001b[1m* Cu2P7-OQMD_6537-CollCode35281_0                -0.08      163.3          0.0    C2/m          Cu2P7        4      ICSD  \u001b[0m\n",
      "  Cu3P11-swap-Ag3P11-OQMD_5040-C[..]             -0.05      257.0         16.7     Cm          Cu3P11        1     SWAPS  \n",
      "  CuP-GA-btv80v-8x34                              0.03      653.5         32.9     Cm          Cu7P27        1       GA   \n",
      "  CuP-GA-nbd9px-7x33                             -0.07       92.8         32.0     Cm           CuP4         7       GA   \n",
      "\u001b[92m\u001b[1m* CuP10-CollCode418805                           -0.04      248.3          0.0     P-1          CuP10        4      ICSD  \u001b[0m\n",
      "\u001b[92m\u001b[1m* P-CollCode150873                               -0.00       21.2          0.0    Cmce            P          4      ICSD  \u001b[0m\n",
      "\n"
     ]
    }
   ],
   "source": [
    "from matador.utils.cursor_utils import display_results\n",
    "# Print a table of all the structures with negative formation energy which are also within 50 meV of hull\n",
    "# currently \"summary\" means it takes the best structure at each stoich\n",
    "table_args = {'hull': True, 'summary': False,'use_source': True}\n",
    "\n",
    "table_cursor = [doc for doc in polished_hull.cursor if doc['hull_distance'] <= 0.05 and doc['formation_enthalpy'] <= 0]\n",
    "display_results(table_cursor, **table_args)\n",
    "latex_table = display_results(table_cursor, latex=True, return_str=True, **table_args)\n",
    "\n",
    "# Replace caps \"SWAPS\" with \"swaps\"\n",
    "latex_table = latex_table.replace(\"SWAPS\", \"swaps\")\n",
    "with open('CuP_table.tex', 'w') as f:\n",
    "    f.write(latex_table)"
   ]
  },
  {
   "cell_type": "markdown",
   "metadata": {},
   "source": [
    "### Structural similarity between CuP$_2$, Cu$_3$P$_{11}$ and Cu$_2$P$_7$"
   ]
  },
  {
   "cell_type": "code",
   "execution_count": 9,
   "metadata": {},
   "outputs": [
    {
     "ename": "AttributeError",
     "evalue": "'PDF' object has no attribute 'formula'",
     "output_type": "error",
     "traceback": [
      "\u001b[0;31m---------------------------------------------------------------------------\u001b[0m",
      "\u001b[0;31mAttributeError\u001b[0m                            Traceback (most recent call last)",
      "\u001b[0;32m<ipython-input-9-0cd537b7a654>\u001b[0m in \u001b[0;36m<module>\u001b[0;34m()\u001b[0m\n\u001b[1;32m      7\u001b[0m \u001b[0;34m\u001b[0m\u001b[0m\n\u001b[1;32m      8\u001b[0m plot_pdf(\n\u001b[0;32m----> 9\u001b[0;31m     \u001b[0mcursor\u001b[0m\u001b[0;34m,\u001b[0m \u001b[0mpng\u001b[0m\u001b[0;34m=\u001b[0m\u001b[0;32mTrue\u001b[0m\u001b[0;34m,\u001b[0m \u001b[0moffset\u001b[0m\u001b[0;34m=\u001b[0m\u001b[0;36m1.2\u001b[0m\u001b[0;34m,\u001b[0m \u001b[0mtext_offset\u001b[0m\u001b[0;34m=\u001b[0m\u001b[0;34m(\u001b[0m\u001b[0;36m6.5\u001b[0m\u001b[0;34m,\u001b[0m \u001b[0;36m0.65\u001b[0m\u001b[0;34m)\u001b[0m\u001b[0;34m,\u001b[0m \u001b[0mr_max\u001b[0m\u001b[0;34m=\u001b[0m\u001b[0;36m8\u001b[0m\u001b[0;34m,\u001b[0m \u001b[0mr_min\u001b[0m\u001b[0;34m=\u001b[0m\u001b[0;36m1\u001b[0m\u001b[0;34m,\u001b[0m \u001b[0mfigsize\u001b[0m\u001b[0;34m=\u001b[0m\u001b[0;34m(\u001b[0m\u001b[0;36m10\u001b[0m\u001b[0;34m,\u001b[0m \u001b[0;36m4\u001b[0m\u001b[0;34m)\u001b[0m\u001b[0;34m\u001b[0m\u001b[0;34m\u001b[0m\u001b[0m\n\u001b[0m\u001b[1;32m     10\u001b[0m )\n\u001b[1;32m     11\u001b[0m plot_pxrd(\n",
      "\u001b[0;32m/u/fs1/afh41/.conda/envs/dev2/lib/python3.6/site-packages/matador/plotting/plotting.py\u001b[0m in \u001b[0;36mwrapped_plot_function\u001b[0;34m(*args, **kwargs)\u001b[0m\n\u001b[1;32m     79\u001b[0m             \u001b[0;31m# now actually call the function\u001b[0m\u001b[0;34m\u001b[0m\u001b[0;34m\u001b[0m\u001b[0;34m\u001b[0m\u001b[0m\n\u001b[1;32m     80\u001b[0m             \u001b[0mset_style\u001b[0m\u001b[0;34m(\u001b[0m\u001b[0mstyle\u001b[0m\u001b[0;34m)\u001b[0m\u001b[0;34m\u001b[0m\u001b[0;34m\u001b[0m\u001b[0m\n\u001b[0;32m---> 81\u001b[0;31m             \u001b[0mresult\u001b[0m \u001b[0;34m=\u001b[0m \u001b[0mfunction\u001b[0m\u001b[0;34m(\u001b[0m\u001b[0;34m*\u001b[0m\u001b[0margs\u001b[0m\u001b[0;34m,\u001b[0m \u001b[0;34m**\u001b[0m\u001b[0mkwargs\u001b[0m\u001b[0;34m)\u001b[0m\u001b[0;34m\u001b[0m\u001b[0;34m\u001b[0m\u001b[0m\n\u001b[0m\u001b[1;32m     82\u001b[0m \u001b[0;34m\u001b[0m\u001b[0m\n\u001b[1;32m     83\u001b[0m         \u001b[0;32mexcept\u001b[0m \u001b[0mTclError\u001b[0m \u001b[0;32mas\u001b[0m \u001b[0mexc\u001b[0m\u001b[0;34m:\u001b[0m\u001b[0;34m\u001b[0m\u001b[0;34m\u001b[0m\u001b[0m\n",
      "\u001b[0;32m/u/fs1/afh41/.conda/envs/dev2/lib/python3.6/site-packages/matador/plotting/pdf_plotting.py\u001b[0m in \u001b[0;36mplot_pdf\u001b[0;34m(pdfs, labels, r_min, r_max, offset, text_offset, legend, annotate, figsize, **kwargs)\u001b[0m\n\u001b[1;32m     94\u001b[0m             \u001b[0mlabel\u001b[0m \u001b[0;34m=\u001b[0m \u001b[0mlabels\u001b[0m\u001b[0;34m[\u001b[0m\u001b[0mind\u001b[0m\u001b[0;34m]\u001b[0m\u001b[0;34m\u001b[0m\u001b[0;34m\u001b[0m\u001b[0m\n\u001b[1;32m     95\u001b[0m         \u001b[0;32melse\u001b[0m\u001b[0;34m:\u001b[0m\u001b[0;34m\u001b[0m\u001b[0;34m\u001b[0m\u001b[0m\n\u001b[0;32m---> 96\u001b[0;31m             \u001b[0mlabel\u001b[0m \u001b[0;34m=\u001b[0m \u001b[0mget_space_group_label_latex\u001b[0m\u001b[0;34m(\u001b[0m\u001b[0mpdf\u001b[0m\u001b[0;34m.\u001b[0m\u001b[0mspg\u001b[0m\u001b[0;34m)\u001b[0m \u001b[0;34m+\u001b[0m \u001b[0;34m'-'\u001b[0m \u001b[0;34m+\u001b[0m \u001b[0mpdf\u001b[0m\u001b[0;34m.\u001b[0m\u001b[0mformula\u001b[0m\u001b[0;34m\u001b[0m\u001b[0;34m\u001b[0m\u001b[0m\n\u001b[0m\u001b[1;32m     97\u001b[0m \u001b[0;34m\u001b[0m\u001b[0m\n\u001b[1;32m     98\u001b[0m         \u001b[0max1\u001b[0m\u001b[0;34m.\u001b[0m\u001b[0mplot\u001b[0m\u001b[0;34m(\u001b[0m\u001b[0mpdf\u001b[0m\u001b[0;34m.\u001b[0m\u001b[0mr_space\u001b[0m\u001b[0;34m,\u001b[0m \u001b[0mpdf\u001b[0m\u001b[0;34m.\u001b[0m\u001b[0mgr\u001b[0m \u001b[0;34m+\u001b[0m \u001b[0mabs_offset\u001b[0m \u001b[0;34m*\u001b[0m \u001b[0mind\u001b[0m\u001b[0;34m,\u001b[0m \u001b[0mlabel\u001b[0m\u001b[0;34m=\u001b[0m\u001b[0mlabel\u001b[0m\u001b[0;34m)\u001b[0m\u001b[0;34m\u001b[0m\u001b[0;34m\u001b[0m\u001b[0m\n",
      "\u001b[0;31mAttributeError\u001b[0m: 'PDF' object has no attribute 'formula'"
     ]
    },
    {
     "data": {
      "image/png": "[encoded data removed]",
      "text/plain": [
       "<Figure size 1000x400 with 1 Axes>"
      ]
     },
     "metadata": {},
     "output_type": "display_data"
    }
   ],
   "source": [
    "from matador.utils.cell_utils import get_space_group_label_latex\n",
    "from matador.plotting import plot_pdf, plot_projected_pdf, plot_pxrd\n",
    "\n",
    "cursor, failures = res2dict('/u/fs1/afh41/proj/HarperCuPData/Cu3P11-Cu2P7-CuP2/*.res', as_model=True)\n",
    "plot_order = ['Cu3P11', 'CuP2', 'Cu2P7']\n",
    "cursor = sorted(cursor, key=lambda x: plot_order.index(x.formula))\n",
    "\n",
    "plot_pdf(\n",
    "    cursor, png=True, offset=1.2, text_offset=(6.5, 0.65), r_max=8, r_min=1, figsize=(10, 4)\n",
    ")\n",
    "plot_pxrd(\n",
    "    cursor, figsize=(10, 4), text_offset=0.18, png=True\n",
    ")"
   ]
  },
  {
   "cell_type": "markdown",
   "metadata": {},
   "source": [
    "### Cu$_2$P electronic structure and dynamic stability"
   ]
  },
  {
   "cell_type": "code",
   "execution_count": null,
   "metadata": {
    "scrolled": false
   },
   "outputs": [],
   "source": [
    "from matador.plotting import plot_spectral\n",
    "ax = plot_spectral(\n",
    "    '/u/fs1/afh41/proj/HarperCuPData/Cu2P/phonon/CuP-Ir2P-OQMD_30622-CollCode640898', \n",
    "    phonons=True,\n",
    "    band_colour='purple', \n",
    "    png=True\n",
    ")"
   ]
  },
  {
   "cell_type": "code",
   "execution_count": null,
   "metadata": {
    "scrolled": false
   },
   "outputs": [],
   "source": [
    "set_matplotlib_formats('png')\n",
    "plot_spectral(\n",
    "    '/u/fs1/afh41/proj/HarperCuPData/Cu2P/bandstructure/CuP-Ir2P-OQMD_30622-CollCode640898',\n",
    "    pdis_interpolation_factor=5,\n",
    "    png=True\n",
    ")\n",
    "set_matplotlib_formats('png')"
   ]
  },
  {
   "cell_type": "markdown",
   "metadata": {},
   "source": [
    "### Finite temperature stability"
   ]
  },
  {
   "cell_type": "code",
   "execution_count": null,
   "metadata": {
    "scrolled": false
   },
   "outputs": [],
   "source": [
    "from matador.hull.hull_temperature import TemperatureDependentHull \n",
    "cursor, failures = castep2dict('/u/fs1/afh41/proj/HarperCuPData/TDHull/*.castep', db=False)\n",
    "if failures:\n",
    "    print(failures)\n",
    "temperatures = np.linspace(0, 600, 21)\n",
    "td_hull = TemperatureDependentHull(\n",
    "    temperatures=temperatures,\n",
    "    cursor=cursor,\n",
    "    energy_key='total_energy_per_atom',\n",
    "    species=['Cu','P'],\n",
    "    show=False\n",
    ")\n",
    "ax = td_hull.plot_hull(plot_points=True,show=False)\n",
    "ax.set_yticks([-0.15,-0.1,-0.05,0.0])\n",
    "lims = ax.get_ylim()\n",
    "ax.set_ylim(lims[0], 0.02)\n",
    "plt.savefig('CuPtemperature_hull.png',bbox_inches='tight',transparent=True)"
   ]
  },
  {
   "cell_type": "markdown",
   "metadata": {},
   "source": [
    "### Li-Cu-P ternary"
   ]
  },
  {
   "cell_type": "code",
   "execution_count": null,
   "metadata": {
    "scrolled": false
   },
   "outputs": [],
   "source": [
    "cursor, failures = res2dict('/u/fs1/afh41/proj/HarperCuPData/VoltageCurve/*.res', db=True, as_model=True)\n",
    "if failures:\n",
    "    print(failures)\n",
    "    \n",
    "ternary_hull = QueryConvexHull(cursor=cursor,\n",
    "        no_plot=False,\n",
    "        efmap=True,\n",
    "        pathways=True,\n",
    "        volume=True,\n",
    "        subcmd='voltage',\n",
    "        elements=['Li', 'Cu', 'P']\n",
    ")"
   ]
  },
  {
   "cell_type": "code",
   "execution_count": null,
   "metadata": {
    "scrolled": false
   },
   "outputs": [],
   "source": [
    "# remove I43d Cu3P from cursor and plot with the ICSD P63cm Cu3P\n",
    "cursor, failures = res2dict('/u/fs1/afh41/proj/HarperCuPData/VoltageCurve/*.res', db=True, as_model=True)\n",
    "noI43dCu3P = [doc for doc in cursor if doc.formula != 'Cu2P']\n",
    "noI43dCu3P = [doc for doc in noI43dCu3P if doc.root_source != 'Cu3P-swap-AsCu3-OQMD_11878-CollCode64715']\n",
    "        \n",
    "hullnoI43dCu3P = QueryConvexHull(cursor=noI43dCu3P,\n",
    "        expt='/u/fs1/afh41/proj/HarperCuPData/VoltageCurve/Cu3P-expt-voltage-bichat2004electrochemicalC8.csv',\n",
    "        expt_label='Cu$_3$P experimental Bichat et al (2004)',\n",
    "        no_plot=False,\n",
    "        subcmd='voltage', \n",
    "        volume=True,\n",
    "        elements=['Li', 'Cu', 'P'])"
   ]
  },
  {
   "cell_type": "code",
   "execution_count": null,
   "metadata": {
    "scrolled": false
   },
   "outputs": [],
   "source": [
    "from matador.plotting import plot_voltage_curve\n",
    "fig, ax = plt.subplots()\n",
    "ax = plot_voltage_curve(ternary_hull, \n",
    "                        ax=ax, curve_label=r'$Fm\\bar{3}m$ Cu$_2$P DFT', \n",
    "                        line_kwargs={'ls': '-', 'color': '#66a61e'})\n",
    "ax = plot_voltage_curve(hullnoI43dCu3P, \n",
    "                        ax=ax, curve_label='$P6_3cm$ Cu$_3$P DFT', \n",
    "                        line_kwargs={'ls': '--', 'color': '#e6ab02'})\n",
    "ax.set_xlim(left=0,right=550)\n",
    "ax.set_ylim(top=1.8)\n",
    "ax.legend()\n",
    "plt.savefig('Cu2PCu3P_voltage.png',bbox_inches='tight',transparent=True)"
   ]
  },
  {
   "cell_type": "markdown",
   "metadata": {},
   "source": [
    "### Supplementary Information"
   ]
  },
  {
   "cell_type": "markdown",
   "metadata": {},
   "source": [
    "### Structural Similarity of Cu$_2$P and Cu$_3$P phases"
   ]
  },
  {
   "cell_type": "code",
   "execution_count": null,
   "metadata": {},
   "outputs": [],
   "source": [
    "cursor, failures = res2dict('/u/fs1/afh41/proj/HarperCuPData/Cu2P-Cu3P-phases/*.res', as_model=True)\n",
    "cursor = [Crystal(doc) for doc in cursor]\n",
    "P63 = cursor.pop(1)\n",
    "cursor.insert(0,P63)\n",
    "labels=[get_space_group_label_latex(get_spacegroup_spg(doc, symprec=0.01)).replace(\"\\\\text\", \"\")+\n",
    "        '-'+get_formula_from_stoich(doc['stoichiometry'],tex=True) for doc in cursor]\n",
    "plot_pdf(cursor,\n",
    "         labels=labels,\n",
    "         png=True,\n",
    "         offset=1.2,\n",
    "         text_offset=(6.5, 0.65),\n",
    "         r_max=8,\n",
    "         r_min=1,\n",
    "         figsize=(10, 4),\n",
    "        )"
   ]
  },
  {
   "cell_type": "code",
   "execution_count": null,
   "metadata": {
    "scrolled": false
   },
   "outputs": [],
   "source": [
    "plot_pxrd([doc.pxrd for doc in cursor],\n",
    "          figsize=(10,4),text_offset=0.18,\n",
    "          png=True,\n",
    "          labels=labels)"
   ]
  },
  {
   "cell_type": "markdown",
   "metadata": {},
   "source": [
    "### Structural Similarity of Cu$_2$P, Ir$_2$P and Rh$_2$P phases"
   ]
  },
  {
   "cell_type": "code",
   "execution_count": null,
   "metadata": {},
   "outputs": [],
   "source": [
    "cursor, failures = res2dict('/u/fs1/afh41/proj/HarperCuPData/Cu2P-Ir2P-Rh2P-phases/*.res', as_model=True)\n",
    "cursor = [Crystal(doc) for doc in cursor]\n",
    "Cu2P = cursor.pop(2)\n",
    "cursor.insert(0,Cu2P)\n",
    "labels=[get_space_group_label_latex(get_spacegroup_spg(doc, symprec=0.01)).replace(\"\\\\text\", \"\")+\n",
    "        '-'+get_formula_from_stoich(doc['stoichiometry'], tex=True) for doc in cursor]\n",
    "plot_pdf(cursor,\n",
    "         labels=labels,\n",
    "         png=True,\n",
    "         offset=1.2,\n",
    "         text_offset=(6.5, 0.65),\n",
    "         r_max=8,\n",
    "         r_min=1,\n",
    "         figsize=(10, 4),\n",
    "        )"
   ]
  },
  {
   "cell_type": "code",
   "execution_count": null,
   "metadata": {},
   "outputs": [],
   "source": [
    "plot_pxrd([doc.pxrd for doc in cursor],\n",
    "          figsize=(10,4),text_offset=0.18,\n",
    "          png=True,\n",
    "          labels=labels)"
   ]
  },
  {
   "cell_type": "markdown",
   "metadata": {},
   "source": [
    "### HSE06 Hybrid Functional Cu$_2$P Electronic Band Structure"
   ]
  },
  {
   "cell_type": "code",
   "execution_count": null,
   "metadata": {},
   "outputs": [],
   "source": [
    "set_matplotlib_formats('png')\n",
    "plot_spectral(\n",
    "    '/u/fs1/afh41/proj/HarperCuPData/Cu2P/bandstructure/HSE06/CuP-Ir2P-OQMD_30622-CollCode640898',\n",
    "    plot_dos=False,\n",
    "    png=True\n",
    ")\n",
    "set_matplotlib_formats('png')"
   ]
  },
  {
   "cell_type": "markdown",
   "metadata": {},
   "source": [
    "### PBE Spin-Polarized Electronic Density of States for Cu$_2$P"
   ]
  },
  {
   "cell_type": "code",
   "execution_count": null,
   "metadata": {},
   "outputs": [],
   "source": [
    "plot_spectral(\n",
    "    '/u/fs1/afh41/proj/HarperCuPData/Cu2P/bandstructure/SPIN/CuP-Ir2P-OQMD_30622-CollCode640898',\n",
    "    plot_bandstructure=False,\n",
    "    png=True\n",
    ")\n",
    "set_matplotlib_formats('png')"
   ]
  },
  {
   "cell_type": "markdown",
   "metadata": {},
   "source": [
    "### Spin-Orbit Coupled Electronic Density of States for Cu$_2$P, Ir$_2$P, and Rh$_2$P"
   ]
  },
  {
   "cell_type": "code",
   "execution_count": null,
   "metadata": {},
   "outputs": [],
   "source": [
    "set_matplotlib_formats('png')\n",
    "plot_spectral(\n",
    "    '/u/fs1/afh41/proj/HarperCuPData/Cu2P/SOC/CuP-Ir2P-OQMD_30622-CollCode640898',\n",
    "    png=True,\n",
    "    plot_dos=False,\n",
    ")"
   ]
  },
  {
   "cell_type": "code",
   "execution_count": null,
   "metadata": {},
   "outputs": [],
   "source": [
    "set_matplotlib_formats('png')\n",
    "plot_spectral(\n",
    "    '/u/fs1/afh41/proj/HarperCuPData/Ir2P/Ir2P-OQMD_30622-CollCode640898',\n",
    "    png=True,\n",
    "    plot_dos=False\n",
    ")"
   ]
  },
  {
   "cell_type": "code",
   "execution_count": null,
   "metadata": {},
   "outputs": [],
   "source": [
    "plot_spectral(\n",
    "    '/u/fs1/afh41/proj/HarperCuPData/Rh2P/PRh2-OQMD_7002-CollCode38356',\n",
    "    png=True,\n",
    "    plot_dos=False\n",
    ")"
   ]
  },
  {
   "cell_type": "markdown",
   "metadata": {},
   "source": [
    "### SCAN vs. PBE+MBD Vibrational Free energies"
   ]
  },
  {
   "cell_type": "code",
   "execution_count": null,
   "metadata": {},
   "outputs": [],
   "source": [
    "# plot temperature vs. enthalpy for P and P_SCAN\n",
    "from matador.orm.spectral import VibrationalDOS\n",
    "P = VibrationalDOS(castep2dict('/u/fs1/afh41/proj/HarperCuPData/PPhonon/P-CollCode150873-PBE.castep', db=False)[0])\n",
    "P_SCAN = VibrationalDOS(castep2dict('/u/fs1/afh41/proj/HarperCuPData/PPhonon/P-CollCode150873-SCAN.castep', db=False)[0])"
   ]
  },
  {
   "cell_type": "code",
   "execution_count": null,
   "metadata": {},
   "outputs": [],
   "source": [
    "import numpy as np\n",
    "temperatures = np.linspace(0, 450, 21)\n",
    "fig, ax = plt.subplots()\n",
    "ax.set_title('Vibrational free energy of black phosphorus with PBE vs rSCAN')\n",
    "P.plot_free_energy(temperatures=temperatures, ax=ax, line_kwargs={'label': f'PBE+MBD $\\\\Delta={P.zpe:.4f}$ eV/atom','color':'#d95f02'})\n",
    "P_SCAN.plot_free_energy(temperatures=temperatures, ax=ax, line_kwargs={'label': f'rSCAN $\\\\Delta={P_SCAN.zpe:.4f}$ eV/atom','color':'#7570b3'})\n",
    "ax.legend()\n",
    "plt.savefig('SCAN_PBE_compare.png',bbox_inches='tight',transparent=True)"
   ]
  },
  {
   "cell_type": "markdown",
   "metadata": {},
   "source": [
    "### Temperature vs. Hull Distance for metastable structures"
   ]
  },
  {
   "cell_type": "code",
   "execution_count": null,
   "metadata": {
    "scrolled": false
   },
   "outputs": [],
   "source": [
    "cursor, failures = castep2dict('/u/fs1/afh41/proj/HarperCuPData/TDHull/*.castep',db=False)\n",
    "cursor.append(\n",
    "    castep2dict('/u/fs1/afh41/proj/HarperCuPData/TDHull/Cu3P-P63cm/*.castep'\n",
    "    ,db=False)[0])\n",
    "if failures:\n",
    "    print(failures)\n",
    "temperatures = np.linspace(0, 600, 21)\n",
    "td_hull = TemperatureDependentHull(\n",
    "    temperatures=temperatures,\n",
    "    cursor=cursor,\n",
    "    energy_key='total_energy_per_atom',\n",
    "    species=['Cu','P'],\n",
    "    show=False\n",
    ")"
   ]
  },
  {
   "cell_type": "code",
   "execution_count": null,
   "metadata": {
    "scrolled": false
   },
   "outputs": [],
   "source": [
    "fig, ax = plt.subplots(figsize=(8, 5))\n",
    "\n",
    "#Get structures from res files for spglib reading\n",
    "rescursor, failures = res2dict('/u/fs1/afh41/proj/HarperCuPData/TDHull/*.res',db=False)\n",
    "\n",
    "lines = []\n",
    "    \n",
    "structs_to_plot = ['Cu3P','Cu8P3','Cu3P11']\n",
    "\n",
    "#plot dashed line for hull distance = 0\n",
    "lines += ax.plot([0,600],[0,0],label='Hull tie-line',linestyle='--')\n",
    "\n",
    "#plot the temperature vs distance from the hull for all structures\n",
    "for doc in td_hull.cursor:\n",
    "    formula = get_formula_from_stoich(doc['stoichiometry'])\n",
    "    if formula in structs_to_plot:\n",
    "        for resdoc in rescursor:\n",
    "            if doc['source'][0].split('/')[-1].split('.')[0] == resdoc['source'][0].split('/')[-1].split('.')[0]:\n",
    "                sg = get_space_group_label_latex(get_spacegroup_spg(resdoc)).replace(\"\\\\text\", \"\")\n",
    "                \n",
    "        lines += ax.plot(doc['temperature']['temperatures'],doc['temperature']['hull_distance'],\n",
    "                    label=sg+'-'+get_formula_from_stoich(doc['stoichiometry'],tex=True))\n",
    "                  \n",
    "labs = [l.get_label() for l in lines]\n",
    "ax.legend(lines, labs, loc=0)\n",
    "ax.set_ylabel('Hull Distance (eV/atom)')\n",
    "ax.set_xlabel('Temperature (K)')\n",
    "lims = ax.get_ylim()\n",
    "\n",
    "plt.savefig('CuPtemperature_vs_dist.png',bbox_inches='tight',transparent=True)"
   ]
  }
 ],
 "metadata": {
  "kernelspec": {
   "display_name": "Python [conda env:dev2]",
   "language": "python",
   "name": "conda-env-dev2-py"
  },
  "language_info": {
   "codemirror_mode": {
    "name": "ipython",
    "version": 3
   },
   "file_extension": ".py",
   "mimetype": "text/x-python",
   "name": "python",
   "nbconvert_exporter": "python",
   "pygments_lexer": "ipython3",
   "version": "3.6.10"
  }
 },
 "nbformat": 4,
 "nbformat_minor": 2
}
