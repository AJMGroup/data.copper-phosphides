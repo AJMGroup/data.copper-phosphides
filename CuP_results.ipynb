{
 "cells": [
  {
   "cell_type": "markdown",
   "metadata": {},
   "source": [
    "## Structure prediction of copper phosphides"
   ]
  },
  {
   "cell_type": "markdown",
   "metadata": {},
   "source": [
    "### Abstract"
   ]
  },
  {
   "cell_type": "markdown",
   "metadata": {},
   "source": [
    "Through computational structure searching, we identify and characterize structures within the Cu-P family using density-functional theory (DFT) calculations.  This study highlights a novel $Fm\\bar{3}m$ phase of Cu$_2$P, which has a theoretical gravimetric capacity of 508 mAh/g, higher than the known conversion anode Cu$_3$P. By thermally populating the modes from DFT phonon calculations, we predict $Fm\\bar{3}m$ Cu$_2$P to be stable at room temperature. We present a convex hull of several stable Cu-P structures, which suggests that Cu$_3$P is also stabilized by increased temperature, and confirms a metastable phase of Cu$_{3-x}$P. Band structure and density of states calculations show that Cu$_2$P is a semimetal with a similar structural relationship to both Ir$_2$P and Rh$_2$P. These first-principles predictions of the stable Cu$_2$P phase suggest that it is experimentally synthesizable, and its predicted properties as a high capacity conversion anode for lithium-ion batteries suggest further research into this phase.\n"
   ]
  },
  {
   "cell_type": "markdown",
   "metadata": {},
   "source": [
    "### Imports"
   ]
  },
  {
   "cell_type": "code",
   "execution_count": 1,
   "metadata": {},
   "outputs": [],
   "source": [
    "from matador.config.config import set_settings\n",
    "set_settings(\n",
    "    {\n",
    "        'plotting': {\n",
    "            'element_colours': './config/vesta_elements.ini',\n",
    "            'default_style': ['matador', './config/CuP.mplstyle']\n",
    "        }\n",
    "    }\n",
    ")"
   ]
  },
  {
   "cell_type": "code",
   "execution_count": 2,
   "metadata": {},
   "outputs": [],
   "source": [
    "import warnings\n",
    "warnings.filterwarnings('ignore')\n",
    "\n",
    "import tqdm\n",
    "import glob\n",
    "import pickle\n",
    "\n",
    "import numpy as np    \n",
    "import matplotlib.pyplot as plt\n",
    "%matplotlib inline\n",
    "from IPython.display import set_matplotlib_formats\n",
    "# ME: revert to png here for now to save space\n",
    "set_matplotlib_formats('png')\n",
    "\n",
    "from matador.query import DBQuery\n",
    "from matador.hull import QueryConvexHull\n",
    "from matador.hull import EnsembleHull\n",
    "from matador.scrapers import castep2dict, res2dict\n",
    "from matador.utils.cursor_utils import filter_unique_structures\n",
    "from matador.utils.cell_utils import standardize_doc_cell, get_spacegroup_spg\n"
   ]
  },
  {
   "cell_type": "markdown",
   "metadata": {},
   "source": [
    "### Results"
   ]
  },
  {
   "cell_type": "markdown",
   "metadata": {},
   "source": [
    "### Structure prediction step"
   ]
  },
  {
   "cell_type": "code",
   "execution_count": 3,
   "metadata": {
    "scrolled": false
   },
   "outputs": [],
   "source": [
    "# load AIRSS structures obtained from searching (old)\n",
    "cursor, failures = res2dict('/u/fs1/afh41/proj/Cu+P/hull-CuP500501-afh41-LiCuP-polish1/*.res', db=True)\n",
    "if failures:\n",
    "    print(failures)\n",
    "    \n",
    "# load AIRSS structures obtained from searching\n",
    "#cursor=[]\n",
    "#hullstructs,failures = res2dict('/u/fs1/afh41/hull-CuP-afh41-CuP1/*.res', db=True)\n",
    "#config_enum, failures = res2dict('/u/fs1/afh41/proj/Cu+P/300-0.05-PBE-00PBE_CuP/config*res', db=True)\n",
    "#ga, failures = res2dict('/u/fs1/afh41/proj/Cu+P/300-0.05-PBE-00PBE_CuP/*-GA-*res',db=True)\n",
    "#airss2019,failures = res2dict('/u/fs1/afh41/proj/Cu+P/300-0.05-PBE-00PBE_CuP/airss-2019/*/*res',db=True)\n",
    "#swaps2019,failures = res2dict('/u/fs1/afh41/proj/Cu+P/300-0.05-PBE-00PBE_CuP/swaps-2019/*res',db=True)\n",
    "\n",
    "#cursor = hullstructs + airss2019 + swaps2019 + config_enum + ga\n"
   ]
  },
  {
   "cell_type": "code",
   "execution_count": 4,
   "metadata": {},
   "outputs": [],
   "source": [
    "# do some pruning: reevaluate symmetries and reduce cells\n",
    "cursor = [standardize_doc_cell(doc, ) for doc in cursor]\n",
    "for doc in cursor:\n",
    "    doc['space_group'] = get_spacegroup_spg(doc, symprec=0.1)"
   ]
  },
  {
   "cell_type": "code",
   "execution_count": 5,
   "metadata": {
    "scrolled": false
   },
   "outputs": [
    {
     "name": "stdout",
     "output_type": "stream",
     "text": [
      "Calculating fingerprints...\n",
      "\u001b[94mRunning 231 jobs on 16 processes, set by core count.\u001b[0m\n",
      "Assessing similarities...\n",
      "Done!\n",
      "───────────────────────────────────────────────────────────────────────────────────────────────────────────────────────\n",
      "                ID              !?!  Pressure  Volume/fu      Enthalpy      Space group     Formula      # fu   Prov.  \n",
      "                                   (GPa)     (Ang^3)       (eV/fu)      \n",
      "───────────────────────────────────────────────────────────────────────────────────────────────────────────────────────\n",
      "\u001b[92m\u001b[1m+          xxx yyy                   -0.07       45.8       -9606.96105   P4/mmm         Cu7P         2     AIRSS  \u001b[0m\n",
      "\u001b[91m\u001b[1m-          xxx yyy                    0.05       45.8           0.00000   P4/mmm         Cu7P         2       GA   \u001b[0m\n",
      "\u001b[91m\u001b[1m-          xxx yyy                   -0.03       91.8           0.00657   P4/mmm         Cu7P         1     AIRSS  \u001b[0m\n",
      "\u001b[91m\u001b[1m-          xxx yyy                   -0.09       91.7           0.00905   P4/mmm         Cu7P         1     AIRSS  \u001b[0m\n",
      "\u001b[91m\u001b[1m-          xxx yyy                    0.04       19.8       -2873.46580    Fm-3m         Cu2P         2     AIRSS  \u001b[0m\n",
      "\u001b[91m\u001b[1m-          xxx yyy                    0.07       19.8           0.00011    Fm-3m         Cu2P         2     AIRSS  \u001b[0m\n",
      "\u001b[91m\u001b[1m-          xxx yyy                   -0.06       19.8           0.00056    Fm-3m         Cu2P         2     AIRSS  \u001b[0m\n",
      "\u001b[91m\u001b[1m-          xxx yyy                   -0.07       39.5           0.00059    Fm-3m         Cu2P         2     AIRSS  \u001b[0m\n",
      "\u001b[91m\u001b[1m-          xxx yyy                   -0.09       19.8           0.00075    Fm-3m         Cu2P         2       GA   \u001b[0m\n",
      "\u001b[91m\u001b[1m-          xxx yyy                   -0.02       19.8           0.00085    Fm-3m         Cu2P         2     AIRSS  \u001b[0m\n",
      "\u001b[91m\u001b[1m-          xxx yyy                   -0.04       19.8           0.00089    Fm-3m         Cu2P         2       GA   \u001b[0m\n",
      "\u001b[91m\u001b[1m-          xxx yyy                   -0.05       19.8           0.00090    Fm-3m         Cu2P         2     AIRSS  \u001b[0m\n",
      "\u001b[91m\u001b[1m-          xxx yyy                   -0.02       39.5           0.00097    Fm-3m         Cu2P         2     AIRSS  \u001b[0m\n",
      "\u001b[91m\u001b[1m-          xxx yyy                   -0.02       19.8           0.00105    Fm-3m         Cu2P         2       GA   \u001b[0m\n",
      "\u001b[91m\u001b[1m-          xxx yyy                   -0.06       19.8           0.00110    Fm-3m         Cu2P         2     AIRSS  \u001b[0m\n",
      "\u001b[91m\u001b[1m-          xxx yyy                   -0.05       39.5           0.00116    Fm-3m         Cu2P         2     AIRSS  \u001b[0m\n",
      "\u001b[91m\u001b[1m-          xxx yyy                    0.04       19.8           0.00125    Fm-3m         Cu2P         2     AIRSS  \u001b[0m\n",
      "\u001b[91m\u001b[1m-          xxx yyy                   -0.05       19.8           0.00142    Fm-3m         Cu2P         2       GA   \u001b[0m\n",
      "\u001b[91m\u001b[1m-          xxx yyy                    0.01       19.8           0.00143    Fm-3m         Cu2P         2     AIRSS  \u001b[0m\n",
      "\u001b[91m\u001b[1m-          xxx yyy                    0.01       19.8           0.00149    Fm-3m         Cu2P         2     AIRSS  \u001b[0m\n",
      "\u001b[91m\u001b[1m-          xxx yyy                   -0.04       19.8           0.00149    Fm-3m         Cu2P         2       GA   \u001b[0m\n",
      "\u001b[91m\u001b[1m-          xxx yyy                    0.01       39.5           0.00152    Fm-3m         Cu2P         2     AIRSS  \u001b[0m\n",
      "\u001b[91m\u001b[1m-          xxx yyy                    0.03       19.8           0.00162    Fm-3m         Cu2P         2     AIRSS  \u001b[0m\n",
      "\u001b[91m\u001b[1m-          xxx yyy                    0.01       13.2           0.00182    Fm-3m         Cu2P         3     AIRSS  \u001b[0m\n",
      "\u001b[91m\u001b[1m-          xxx yyy                    0.01       39.5           0.00186    Fm-3m         Cu2P         2     AIRSS  \u001b[0m\n",
      "\u001b[91m\u001b[1m-          xxx yyy                   -0.00       13.2           0.00250    Fm-3m         Cu2P         3     AIRSS  \u001b[0m\n",
      "\u001b[91m\u001b[1m-          xxx yyy                    0.04       39.5           0.00284    Fm-3m         Cu2P         3     AIRSS  \u001b[0m\n",
      "\u001b[91m\u001b[1m-          xxx yyy                    0.01       39.5           0.00596    Fm-3m         Cu2P         1       GA   \u001b[0m\n",
      "\u001b[91m\u001b[1m-          xxx yyy                    0.00       39.6           0.00596    Fm-3m         Cu2P         1     AIRSS  \u001b[0m\n",
      "\u001b[91m\u001b[1m-          xxx yyy                   -0.08       39.6           0.00598    Fm-3m         Cu2P         1       GA   \u001b[0m\n",
      "\u001b[91m\u001b[1m-          xxx yyy                   -0.00       39.6           0.00600    Fm-3m         Cu2P         1     AIRSS  \u001b[0m\n",
      "\u001b[91m\u001b[1m-          xxx yyy                   -0.04       39.6           0.00604    Fm-3m         Cu2P         1       GA   \u001b[0m\n",
      "\u001b[91m\u001b[1m-          xxx yyy                   -0.01       39.6           0.00622    Fm-3m         Cu2P         1       GA   \u001b[0m\n",
      "\u001b[91m\u001b[1m-          xxx yyy                    0.03        9.9           0.00625    Fm-3m         Cu2P         4     AIRSS  \u001b[0m\n",
      "\u001b[91m\u001b[1m-          xxx yyy                   -0.01       39.6           0.00628    Fm-3m         Cu2P         1     SWAPS  \u001b[0m\n",
      "\u001b[91m\u001b[1m-          xxx yyy                   -0.03       39.6           0.00631    Fm-3m         Cu2P         1       GA   \u001b[0m\n",
      "\u001b[91m\u001b[1m-          xxx yyy                   -0.08        9.9           0.00633    Fm-3m         Cu2P         4     AIRSS  \u001b[0m\n",
      "\u001b[91m\u001b[1m-          xxx yyy                    0.01        9.9           0.00640    Fm-3m         Cu2P         4     AIRSS  \u001b[0m\n",
      "\u001b[91m\u001b[1m-          xxx yyy                    0.00        9.9           0.00640    Fm-3m         Cu2P         4     AIRSS  \u001b[0m\n",
      "\u001b[91m\u001b[1m-          xxx yyy                    0.01       39.6           0.00643    Fm-3m         Cu2P         1     AIRSS  \u001b[0m\n",
      "\u001b[91m\u001b[1m-          xxx yyy                    0.09        9.9           0.00645    Fm-3m         Cu2P         4     AIRSS  \u001b[0m\n",
      "\u001b[91m\u001b[1m-          xxx yyy                   -0.05        9.9           0.00650    Fm-3m         Cu2P         4       GA   \u001b[0m\n",
      "\u001b[91m\u001b[1m-          xxx yyy                   -0.05       39.6           0.00654    Fm-3m         Cu2P         1     AIRSS  \u001b[0m\n",
      "\u001b[91m\u001b[1m-          xxx yyy                    0.00       39.6           0.00663    Fm-3m         Cu2P         1     AIRSS  \u001b[0m\n",
      "\u001b[91m\u001b[1m-          xxx yyy                   -0.05       19.8           0.00664    Fm-3m         Cu2P         2     AIRSS  \u001b[0m\n",
      "\u001b[91m\u001b[1m-          xxx yyy                    0.01       39.6           0.00671    Fm-3m         Cu2P         1     AIRSS  \u001b[0m\n",
      "\u001b[91m\u001b[1m-          xxx yyy                   -0.04        9.9           0.00740    Fm-3m         Cu2P         4       GA   \u001b[0m\n",
      "\u001b[91m\u001b[1m-          xxx yyy                   -0.08       19.8           0.00765    Fm-3m         Cu2P         2     AIRSS  \u001b[0m\n",
      "\u001b[91m\u001b[1m-          xxx yyy                   -0.09       39.6           0.00809    Fm-3m         Cu2P         2       GA   \u001b[0m\n",
      "\u001b[91m\u001b[1m-          xxx yyy                   -0.04       39.6           0.00875    Fm-3m         Cu2P         1     AIRSS  \u001b[0m\n",
      "\u001b[91m\u001b[1m-          xxx yyy                   -0.02       39.6           0.00886    Fm-3m         Cu2P         1       GA   \u001b[0m\n",
      "\u001b[91m\u001b[1m-          xxx yyy                   -0.06       39.6           0.00965    Fm-3m         Cu2P         2       GA   \u001b[0m\n",
      "\u001b[91m\u001b[1m-          xxx yyy                    0.00        7.9           0.00978    Fm-3m         Cu2P         5       GA   \u001b[0m\n",
      "\u001b[91m\u001b[1m-          xxx yyy                   -0.01       39.5           0.01169    Fm-3m         Cu2P         2       GA   \u001b[0m\n",
      "\u001b[91m\u001b[1m-          xxx yyy                   -0.07       19.8           0.01180    Fm-3m         Cu2P         2     AIRSS  \u001b[0m\n",
      "\u001b[91m\u001b[1m-          xxx yyy                   -0.04       19.8           0.01194    Fm-3m         Cu2P         2     AIRSS  \u001b[0m\n",
      "\u001b[91m\u001b[1m-          xxx yyy                   -0.01       19.8           0.01208    Fm-3m         Cu2P         2     AIRSS  \u001b[0m\n",
      "\u001b[91m\u001b[1m-          xxx yyy                    0.09       39.6           0.01210    Fm-3m         Cu2P         1     SWAPS  \u001b[0m\n",
      "\u001b[91m\u001b[1m-          xxx yyy                   -0.04       19.8           0.01217    Fm-3m         Cu2P         2     AIRSS  \u001b[0m\n",
      "\u001b[91m\u001b[1m-          xxx yyy                    0.09       39.6           0.01219    Fm-3m         Cu2P         1     SWAPS  \u001b[0m\n",
      "\u001b[91m\u001b[1m-          xxx yyy                   -0.07       19.8           0.01223    Fm-3m         Cu2P         2     AIRSS  \u001b[0m\n",
      "\u001b[91m\u001b[1m-          xxx yyy                   -0.00       19.8           0.01279    Fm-3m         Cu2P         2     AIRSS  \u001b[0m\n",
      "\u001b[92m\u001b[1m+          xxx yyy                    0.02       39.6           0.01291    Fm-3m         Cu2P         1     AIRSS  \u001b[0m\n",
      "\u001b[91m\u001b[1m-          xxx yyy                   -0.09       39.6           0.01294    Fm-3m         Cu2P         1       GA   \u001b[0m\n",
      "\u001b[91m\u001b[1m-          xxx yyy                   -0.00       39.5           0.01429    Fm-3m         Cu2P         1       GA   \u001b[0m\n",
      "\u001b[91m\u001b[1m-          xxx yyy                   -0.01       39.5           0.01456    Fm-3m         Cu2P         1     AIRSS  \u001b[0m\n",
      "\n",
      "Filtered 231 down to 35\n"
     ]
    }
   ],
   "source": [
    "# filter them for uniqueness; this should be done outside the notebook really\n",
    "filtering = True\n",
    "if filtering:\n",
    "    cursor = filter_unique_structures(cursor)"
   ]
  },
  {
   "cell_type": "code",
   "execution_count": 6,
   "metadata": {
    "scrolled": false
   },
   "outputs": [
    {
     "name": "stdout",
     "output_type": "stream",
     "text": [
      "\u001b[94m6 structures found within 0.0 eV of the hull, including chemical potentials.\u001b[0m\n",
      "───────────────────────────────────────────────────────────────────────────────────────────────────────────────────────────\n",
      "                 Source                  !?!  Pressure  Volume/fu  Hull dist.   Space group     Formula      # fu   Prov.  \n",
      "                                               (GPa)     (Ang^3)   (meV/atom)  \n",
      "───────────────────────────────────────────────────────────────────────────────────────────────────────────────────────────\n",
      "\u001b[92m\u001b[1m* Cu-OQMD_592441-CollCode43493                    0.03       11.3          0.0    Fm-3m          Cu          1      ICSD  \u001b[0m\n",
      "\u001b[92m\u001b[1m* Cu2P-swap-PRh2-OQMD_7002-CollC[..]             -0.01       39.6          0.0    Fm-3m         Cu2P         1     SWAPS  \u001b[0m\n",
      "\u001b[92m\u001b[1m* CuP2-OQMD_6538-CollCode35282_3[..]             -0.02       46.8          0.0   P2_1/c         CuP2         4      ICSD  \u001b[0m\n",
      "\u001b[92m\u001b[1m* Cu2P7-OQMD_6537-CollCode35281_[..]             -0.03      156.5          0.0    C2/m          Cu2P7        4      ICSD  \u001b[0m\n",
      "\u001b[92m\u001b[1m* CuP10-MP-606644                                 0.04      227.2          0.0     P-1          CuP10        4       MP   \u001b[0m\n",
      "\u001b[92m\u001b[1m* P-OQMD_4437-CollCode23836                      -0.01       20.2          0.0    Cmce            P          4      ICSD  \u001b[0m\n",
      "\n"
     ]
    }
   ],
   "source": [
    "hull = QueryConvexHull(\n",
    "    cursor=cursor, \n",
    "    species=['Cu', 'P'], \n",
    "    no_plot=True\n",
    ")"
   ]
  },
  {
   "cell_type": "code",
   "execution_count": 7,
   "metadata": {
    "scrolled": false
   },
   "outputs": [
    {
     "name": "stdout",
     "output_type": "stream",
     "text": [
      "Using config from /u/fs1/me388/.matadorrc\n"
     ]
    },
    {
     "data": {
      "image/png": "[encoded data removed]",
      "text/plain": [
       "<Figure size 800x500 with 1 Axes>"
      ]
     },
     "metadata": {},
     "output_type": "display_data"
    }
   ],
   "source": [
    "from matador.plotting import plot_2d_hull\n",
    "import matplotlib.pyplot as plt\n",
    "fig, ax = plt.subplots(figsize=(8, 5))\n",
    "ax = plot_2d_hull(\n",
    "    hull,\n",
    "    ax=ax,\n",
    "    label_cutoff=8e-3, \n",
    "    colour_by_source=True,\n",
    "    hull_cutoff=0.01,\n",
    "    plot_hull_points=False,\n",
    "    show=False,\n",
    "    alpha=0.8, \n",
    "    label_offset=(1.15, 0.02),\n",
    "    eform_limits=(-0.2, 0.1),\n",
    "    sources=['ICSD', 'MP', 'SWAPS', 'OQMD', 'GA', 'AIRSS']\n",
    ")\n",
    "ax.set_yticks([-0.2, -0.1, 0])\n",
    "plt.show()\n",
    "# plt.savefig('CuP-convex-hull.png',bbox_inches='tight',transparent=True)"
   ]
  },
  {
   "cell_type": "code",
   "execution_count": 8,
   "metadata": {
    "scrolled": false
   },
   "outputs": [
    {
     "name": "stdout",
     "output_type": "stream",
     "text": [
      "───────────────────────────────────────────────────────────────────────────────────────────────────────────────────────────────────────\n",
      "                 Source                  !?!  Pressure  Volume/fu  Hull dist.   Space group     Formula      # fu   Prov.  Occurrences \n",
      "                                               (GPa)     (Ang^3)   (meV/atom)  \n",
      "───────────────────────────────────────────────────────────────────────────────────────────────────────────────────────────────────────\n",
      "\u001b[92m\u001b[1m* Cu-OQMD_592441-CollCode43493                    0.03       11.3          0.0    Fm-3m          Cu          1      ICSD  \u001b[0m     1      \n",
      "  CuP-GA-m0ol1y-7x65                              0.01      193.6         32.9     P-1          Cu16P        1       GA        1      \n",
      "  CuP-GA-btv80v-5x30                             -0.02      148.3         37.0     P-1          Cu12P        1       GA        1      \n",
      "  CuP-GA-m0ol1y-2x20                             -0.01      137.2         39.9    C2/m          Cu11P        1       GA        1      \n",
      "  CuP-GA-m0ol1y-7x29                             -0.03      125.6         39.9     P-1          Cu10P        1       GA        2      \n",
      "  CuP-GA-m0ol1y-6x10                              0.03      240.8         45.0     P-1         Cu19P2        1       GA        1      \n",
      "  CuP-GA-m0ol1y-8x27                              0.01      114.5         43.9    C2/m          Cu9P         1       GA        3      \n",
      "  CuP-GA-m0ol1y-3x46                              0.01      103.1         47.6    C2/m          Cu8P         1       GA        1      \n",
      "  CuP-qzbyu2-a_final                             -0.07       45.8         44.3   P4/mmm         Cu7P         2     AIRSS       1      \n",
      "  CuP_ratios-anbf0moptimised                      0.00       42.4         34.1   I4/mmm         Cu6P         2     AIRSS       3      \n",
      "  CuP_ratios-kzw2kyoptimised                     -0.04       62.1         31.0   P4/nmm         Cu4P         2     AIRSS       2      \n",
      "  CuP-GA-m0ol1y-7x3                               0.02       50.8         37.4    Cmcm          Cu3P         2       GA        2      \n",
      "  Cu2-3P-GA-qdmiax-1x7                           -0.02      283.8         38.2     Cm          Cu17P6        1       GA        1      \n",
      "  config_25                                       0.05      138.4         34.9   Cmc2_1         Cu8P3        2     AIRSS       2      \n",
      "  Cu3P-b7q5x7-a_final                             0.03      130.9         46.6    P31m          Cu7P3        2     AIRSS       1      \n",
      "\u001b[92m\u001b[1m* Cu2P-swap-PRh2-OQMD_7002-CollC[..]             -0.01       39.6          0.0    Fm-3m         Cu2P         1     SWAPS  \u001b[0m     1      \n",
      "  CuP_ratios-jg4yo5optimised                      0.04      107.0         47.9   P4/mmm         Cu4P3        2     AIRSS       1      \n",
      "\u001b[92m\u001b[1m* CuP2-OQMD_6538-CollCode35282_3[..]             -0.02       46.8          0.0   P2_1/c         CuP2         4      ICSD  \u001b[0m     1      \n",
      "  CuP_ratios-qaiupvoptimised                      0.03       68.1         32.1    Pmmn          CuP3         2     AIRSS       1      \n",
      "  CuP-GA-nbd9px-7x39                             -0.03      626.1         30.3     Cm          Cu8P27        1       GA        2      \n",
      "\u001b[92m\u001b[1m* Cu2P7-OQMD_6537-CollCode35281_[..]             -0.03      156.5          0.0    C2/m          Cu2P7        4      ICSD  \u001b[0m     1      \n",
      "  Cu3P11-swap-Ag3P11-OQMD_5040-C[..]             -0.01      246.0         17.5     Cm          Cu3P11        1     SWAPS       1      \n",
      "  CuP-GA-btv80v-8x34                              0.02      623.1         35.8     Cm          Cu7P27        1       GA        1      \n",
      "  CuP-GA-nbd9px-7x33                              0.06       88.7         31.1     Cm           CuP4         7       GA        1      \n",
      "\u001b[92m\u001b[1m* CuP10-MP-606644                                 0.04      227.2          0.0     P-1          CuP10        4       MP   \u001b[0m     1      \n",
      "\u001b[92m\u001b[1m* P-OQMD_4437-CollCode23836                      -0.01       20.2          0.0    Cmce            P          4      ICSD  \u001b[0m     1      \n",
      "\n"
     ]
    }
   ],
   "source": [
    "from matador.utils.cursor_utils import display_results\n",
    "# Print a table of all the structures with negative formation energy which are also within 50 meV of hull\n",
    "# currently \"summary\" means it takes the best structure at each stoich\n",
    "table_args = {'hull': True, 'summary': True, 'use_source': True}\n",
    "table_cursor = [doc for doc in hull.cursor if doc['hull_distance'] <= 0.05]\n",
    "display_results(table_cursor, **table_args)\n",
    "latex_table = display_results(table_cursor, latex=True, return_str=True, **table_args)\n",
    "with open('CuP_table.tex', 'w') as f:\n",
    "    f.write(latex_table)"
   ]
  },
  {
   "cell_type": "markdown",
   "metadata": {},
   "source": [
    "### Li-Cu-P ternary"
   ]
  },
  {
   "cell_type": "code",
   "execution_count": null,
   "metadata": {
    "scrolled": false
   },
   "outputs": [
    {
     "name": "stdout",
     "output_type": "stream",
     "text": [
      "Calculating fingerprints...\n",
      "\u001b[94mRunning 14 jobs on 16 processes, set by core count.\u001b[0m\n",
      " 0 / 14    0%\r"
     ]
    }
   ],
   "source": [
    "cursor, failures = res2dict('/u/fs1/afh41/voltage-LiCuP-afh41-LiCuP-noCu2P/*.res', db=True)\n",
    "cursor = filter_unique_structures(cursor)\n",
    "\n",
    "if failures:\n",
    "    print(failures)"
   ]
  },
  {
   "cell_type": "code",
   "execution_count": null,
   "metadata": {
    "scrolled": false
   },
   "outputs": [],
   "source": [
    "# This is the ternary hull used to create the voltage profiles. It has ommitted the disputed Cu-Li\n",
    "# phases and the high P content Cu-P phases to identify specifically the Cu3P and Cu2P voltage profiles\n",
    "\n",
    "hull = QueryConvexHull(cursor=cursor,\n",
    "        #expt='Cu3P-deetrizio-exp.csv',\n",
    "        #expt='Cu3P-expt-voltage-bichat2004electrochemical.csv',\n",
    "        expt='/u/fs1/afh41/voltage-LiCuP-afh41-LiCuP-noCu2P/Cu3P-expt-voltage-bichat2004electrochemicalC8.csv',\n",
    "        expt_label='Cu$_3$P experimental Bichat et al (2004)',\n",
    "        no_plot=True,\n",
    "        capmap=True,\n",
    "        pathways=True,\n",
    "        subcmd='voltage', \n",
    "        elements=['Li', 'Cu', 'P'])"
   ]
  },
  {
   "cell_type": "code",
   "execution_count": null,
   "metadata": {},
   "outputs": [],
   "source": [
    "# remove Cu2P from the plot and calculate the convex hull without Cu2P\n",
    "noCu2Pcursor = [doc for doc in cursor if doc['stoichiometry'] != [['Cu', 2.0], ['P', 1.0]]]\n",
    "        \n",
    "hullnoCu2P = QueryConvexHull(cursor=noCu2Pcursor,\n",
    "        no_plot=True,\n",
    "        subcmd='voltage', \n",
    "        elements=['Li', 'Cu', 'P'])"
   ]
  },
  {
   "cell_type": "code",
   "execution_count": null,
   "metadata": {},
   "outputs": [],
   "source": [
    "from matador.plotting import plot_voltage_curve\n",
    "# revert to matador colourscheme\n",
    "set_settings({'plotting': {'default_style': 'matador'}})"
   ]
  },
  {
   "cell_type": "code",
   "execution_count": null,
   "metadata": {
    "scrolled": false
   },
   "outputs": [],
   "source": [
    "fig, ax = plt.subplots()\n",
    "ax = plot_voltage_curve(hull, \n",
    "                        ax=ax, curve_label='Cu$_2$P DFT', \n",
    "                        line_kwargs={'ls': '-', 'color': 'darkblue'})\n",
    "ax = plot_voltage_curve(hullnoCu2P, \n",
    "                        ax=ax, curve_label='Cu$_3$P DFT', \n",
    "                        line_kwargs={'ls': '-', 'color': 'lightblue'})\n",
    "ax.legend()"
   ]
  },
  {
   "cell_type": "code",
   "execution_count": null,
   "metadata": {
    "scrolled": false
   },
   "outputs": [],
   "source": [
    "from matador.plotting import plot_spectral\n",
    "ax = plot_spectral(\n",
    "    '/u/fs1/afh41/Cu2P-phonon-correct-path/CuP-Ir2P-OQMD_30622-CollCode640898', \n",
    "    phonons=True,\n",
    "    band_colour='purple', \n",
    "  #  png=True\n",
    ")"
   ]
  },
  {
   "cell_type": "code",
   "execution_count": null,
   "metadata": {
    "scrolled": false
   },
   "outputs": [],
   "source": [
    "# write now displaying as svg is too taxing when there are many thousand points, so switch to png here \n",
    "# long-term solution is probably to rewrite pdis plotting to use variable line widths with variable zorder...\n",
    "set_matplotlib_formats('png')\n",
    "plot_spectral(\n",
    "    '/u/fs1/afh41/Cu2P-bands-elec/CuP-Ir2P-OQMD_30622-CollCode640898',\n",
    "    pdis_interpolation_factor=5,\n",
    "  #  png=True\n",
    ")\n",
    "set_matplotlib_formats('png')"
   ]
  },
  {
   "cell_type": "code",
   "execution_count": null,
   "metadata": {
    "scrolled": false
   },
   "outputs": [],
   "source": [
    "# this DOS is a bit weird?\n",
    "plot_spectral(\n",
    "    '/u/fs1/afh41/P-phonon/P-CollCode150873_prim-out_prim',\n",
    "    phonons=True,\n",
    "    band_colour='purple', \n",
    "    plot_dos=False,\n",
    "   # png=True,\n",
    ")"
   ]
  },
  {
   "cell_type": "code",
   "execution_count": null,
   "metadata": {
    "scrolled": false
   },
   "outputs": [],
   "source": [
    "from matador.hull.hull_temperature import TemperatureDependentHull \n",
    "cursor, failures = castep2dict('/u/fs1/afh41/proj/test-done-from-athena/CuP/*.castep', db=False)\n",
    "if failures:\n",
    "    print(failures)\n",
    "    \n",
    "temperatures = np.linspace(0, 900, 21)\n",
    "# me388 todo: add color bar to these plots\n",
    "hull = TemperatureDependentHull(\n",
    "    temperatures=temperatures,\n",
    "    cursor=cursor,\n",
    "    energy_key='total_energy_per_atom',\n",
    "    species=['Cu','P']\n",
    ")\n",
    "ax = hull.plot_hull(plot_points=True)\n",
    "lims = ax.get_ylim()\n",
    "ax.set_ylim(lims[0], 0.02);"
   ]
  },
  {
   "cell_type": "code",
   "execution_count": null,
   "metadata": {},
   "outputs": [],
   "source": [
    "# plot temperature vs. enthalpy for P and P_SCAN\n",
    "from matador.orm.spectral import VibrationalDOS\n",
    "P = VibrationalDOS(castep2dict('/u/fs1/afh41/P-phonon/P-CollCode150873_prim-out_prim.castep', db=False)[0])\n",
    "P_SCAN = VibrationalDOS(castep2dict('/u/fs1/afh41/P-phonon/SCAN/P-CollCode150873_prim-out_prim.castep', db=False)[0])"
   ]
  },
  {
   "cell_type": "code",
   "execution_count": null,
   "metadata": {},
   "outputs": [],
   "source": [
    "import numpy as np\n",
    "temperatures = np.linspace(0, 450, 21)\n",
    "fig, ax = plt.subplots()\n",
    "ax.set_title('Vibrational free energy of black phosphorus with PBE vs rSCAN')\n",
    "P.plot_free_energy(temperatures=temperatures, ax=ax, line_kwargs={'label': f'PBE $\\\\Delta={P.zpe:.4f}$ eV/atom'})\n",
    "P_SCAN.plot_free_energy(temperatures=temperatures, ax=ax, line_kwargs={'label': f'rSCAN $\\\\Delta={P_SCAN.zpe:.4f}$ eV/atom'})\n",
    "ax.legend()"
   ]
  },
  {
   "cell_type": "code",
   "execution_count": null,
   "metadata": {},
   "outputs": [],
   "source": [
    "import numpy as np\n",
    "from scipy.constants import physical_constants\n",
    "cursor, failures = castep2dict('/u/fs1/afh41/proj/test-done-from-athena/CuP/*.castep', db=False)\n",
    "\n",
    "k = physical_constants['Boltzmann constant in eV/K'][0]\n",
    "S = k * np.log(3) # Configurational Entropy S = kln(w)\n",
    "T = 300 \n",
    "\n",
    "for ind, doc in enumerate(cursor):\n",
    "    dos = VibrationalDOS(doc)\n",
    "    \n",
    "    if doc['stoichiometry'] == [['Cu', 8.0], ['P', 3.0]]:\n",
    "        entropy_contrib = S*T\n",
    "    else:\n",
    "        entropy_contrib = 0\n",
    "    doc['300_free_energy'] = doc['smeared_free_energy'] + dos.vibrational_free_energy(T) - entropy_contrib\n",
    "    doc['300_free_energy_per_atom'] = doc['300_free_energy'] / doc['num_atoms']\n",
    "    \n",
    "hull = QueryConvexHull(\n",
    "    cursor=cursor,\n",
    "    energy_key='300_free_energy',\n",
    "    species=['Cu','P']\n",
    ")"
   ]
  },
  {
   "cell_type": "code",
   "execution_count": null,
   "metadata": {},
   "outputs": [],
   "source": [
    " "
   ]
  }
 ],
 "metadata": {
  "kernelspec": {
   "display_name": "Python [conda env:dev2]",
   "language": "python",
   "name": "conda-env-dev2-py"
  },
  "language_info": {
   "codemirror_mode": {
    "name": "ipython",
    "version": 3
   },
   "file_extension": ".py",
   "mimetype": "text/x-python",
   "name": "python",
   "nbconvert_exporter": "python",
   "pygments_lexer": "ipython3",
   "version": "3.6.6"
  }
 },
 "nbformat": 4,
 "nbformat_minor": 2
}
